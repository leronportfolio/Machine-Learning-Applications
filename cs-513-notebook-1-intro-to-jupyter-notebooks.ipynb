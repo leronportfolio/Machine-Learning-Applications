{
 "cells": [
  {
   "cell_type": "markdown",
   "id": "0add88bc",
   "metadata": {
    "_cell_guid": "b1076dfc-b9ad-4769-8c92-a6c4dae69d19",
    "_uuid": "8f2839f25d086af736a60e9eeb907d3b93b6e0e5",
    "papermill": {
     "duration": 0.003476,
     "end_time": "2023-04-04T20:36:47.889745",
     "exception": false,
     "start_time": "2023-04-04T20:36:47.886269",
     "status": "completed"
    },
    "tags": []
   },
   "source": [
    "# Notebook 1: Introduction to Jupyter Notebooks\n",
    "## Ronnald Le\n",
    "\n"
   ]
  },
  {
   "cell_type": "code",
   "execution_count": 1,
   "id": "a7f2a624",
   "metadata": {
    "execution": {
     "iopub.execute_input": "2023-04-04T20:36:47.897694Z",
     "iopub.status.busy": "2023-04-04T20:36:47.897205Z",
     "iopub.status.idle": "2023-04-04T20:36:47.925706Z",
     "shell.execute_reply": "2023-04-04T20:36:47.924095Z"
    },
    "papermill": {
     "duration": 0.036203,
     "end_time": "2023-04-04T20:36:47.929016",
     "exception": false,
     "start_time": "2023-04-04T20:36:47.892813",
     "status": "completed"
    },
    "tags": []
   },
   "outputs": [
    {
     "name": "stdout",
     "output_type": "stream",
     "text": [
      "I need a lie down, Only just got up,\n"
     ]
    }
   ],
   "source": [
    "# This is a code cell. It invokes a function that has been defined for you. Run the code cell.\n",
    "\n",
    "from cs_513_notebook_1_scripts import *\n",
    "\n",
    "print(song_lyric())"
   ]
  },
  {
   "cell_type": "markdown",
   "id": "8880c088",
   "metadata": {
    "papermill": {
     "duration": 0.002132,
     "end_time": "2023-04-04T20:36:47.934139",
     "exception": false,
     "start_time": "2023-04-04T20:36:47.932007",
     "status": "completed"
    },
    "tags": []
   },
   "source": [
    "The code cell above generated some output, which should be visible below the code. Edit this markdown cell. Replace the *FIXME: OUTPUT* below with the output from the code above.\n",
    "\n",
    "[**I need a lie down, Only just got up,**](https://www.acdc.com/)\n",
    "\n",
    "Use markdown to make the text bold. For bonus points, make it a hyperlink to the home page of the band whose song begins with that lyric.\n",
    "\n",
    "Next, add two new cells below: a code cell and a markdown cell.\n",
    "\n",
    "In the code cell, write *two* programming demonstrations.\n",
    "\n",
    "## Demonstration 1\n",
    "\n",
    "* Define a function named `favorite_food` that returns the name of your favorite food\n",
    "* Define a function named `favorite_beverage` that returns the name of your favorite beverage\n",
    "* Write a single line of code that uses these two functions to print the phrase \"I like to eat \\_ and drink \\_\", with the blanks filled in.\n",
    "\n",
    "## Demonstration 2\n",
    "\n",
    "* Define a list that contains the following string values: `[\"Homer\", \"Marge\", \"Bart\", \"Lisa\", \"Maggie\"]`.\n",
    "* Define a function named `simpsonize` that accepts a list of strings as input, and returns a new list with `\"Simpson\"` appended to the end of each string.\n",
    "* Print the output of invoking your`simpsonize` function, passing it the list of the string values above.\n",
    "\n",
    "For example, when we invoke `simpsonize([\"Harry\", \"Jane\"])` the function returns `[\"Harry Simpson\", \"Jane Simpson\"]` and you should `print` the result.\n",
    "\n",
    "In the markdown cell, please describe why you are interested in this course, and what you hope to get out of the course."
   ]
  },
  {
   "cell_type": "code",
   "execution_count": 2,
   "id": "6437a633",
   "metadata": {
    "execution": {
     "iopub.execute_input": "2023-04-04T20:36:47.943038Z",
     "iopub.status.busy": "2023-04-04T20:36:47.941110Z",
     "iopub.status.idle": "2023-04-04T20:36:47.952580Z",
     "shell.execute_reply": "2023-04-04T20:36:47.951090Z"
    },
    "papermill": {
     "duration": 0.018673,
     "end_time": "2023-04-04T20:36:47.955123",
     "exception": false,
     "start_time": "2023-04-04T20:36:47.936450",
     "status": "completed"
    },
    "tags": []
   },
   "outputs": [
    {
     "name": "stdout",
     "output_type": "stream",
     "text": [
      "I like to eat spagetthi with sauce packets from Fred Meyers and drink a venti iced caramel macchiato with extra caramel drizzle from Starbucks.\n",
      "['Homer Simpson', 'Marge Simpson', 'Bart Simpson', 'Lisa Simpson', 'Maggie Simpson']\n"
     ]
    }
   ],
   "source": [
    "# Demonstration 1\n",
    "def favorite_food():\n",
    "    return \"spagetthi with sauce packets from Fred Meyers\"\n",
    "\n",
    "def favorite_beverage():\n",
    "    return \"a venti iced caramel macchiato with extra caramel drizzle from Starbucks.\"\n",
    "\n",
    "print(\"I like to eat\", favorite_food(), \"and drink\", favorite_beverage())\n",
    "\n",
    "# Demonstration 2\n",
    "def simpsonize(last_name_list):\n",
    "    return [name + \" Simpson\" for name in last_name_list]\n",
    "\n",
    "simpsons = [\"Homer\", \"Marge\", \"Bart\", \"Lisa\", \"Maggie\"]\n",
    "print(simpsonize(simpsons))"
   ]
  },
  {
   "cell_type": "markdown",
   "id": "68bf2c72",
   "metadata": {
    "papermill": {
     "duration": 0.002079,
     "end_time": "2023-04-04T20:36:47.959716",
     "exception": false,
     "start_time": "2023-04-04T20:36:47.957637",
     "status": "completed"
    },
    "tags": []
   },
   "source": [
    "I am a graduate student in the MS Data Analytics program at Oregon State University. I currently work part-time at OHSU as a lab assistant. I am actively looking for a Data Science position or a Data Analyst position, but times are rough. I am hoping to learn more about Machine Learning and its application, since I've been eyeballing this course before being admitted to the program. "
   ]
  }
 ],
 "metadata": {
  "kernelspec": {
   "display_name": "Python 3",
   "language": "python",
   "name": "python3"
  },
  "language_info": {
   "codemirror_mode": {
    "name": "ipython",
    "version": 3
   },
   "file_extension": ".py",
   "mimetype": "text/x-python",
   "name": "python",
   "nbconvert_exporter": "python",
   "pygments_lexer": "ipython3",
   "version": "3.7.12"
  },
  "papermill": {
   "default_parameters": {},
   "duration": 15.489723,
   "end_time": "2023-04-04T20:36:48.889307",
   "environment_variables": {},
   "exception": null,
   "input_path": "__notebook__.ipynb",
   "output_path": "__notebook__.ipynb",
   "parameters": {},
   "start_time": "2023-04-04T20:36:33.399584",
   "version": "2.4.0"
  }
 },
 "nbformat": 4,
 "nbformat_minor": 5
}
