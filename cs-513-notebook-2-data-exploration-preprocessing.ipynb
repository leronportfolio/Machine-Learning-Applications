{
 "cells": [
  {
   "cell_type": "markdown",
   "id": "4ce2412c",
   "metadata": {
    "papermill": {
     "duration": 0.007787,
     "end_time": "2023-04-12T23:37:16.001068",
     "exception": false,
     "start_time": "2023-04-12T23:37:15.993281",
     "status": "completed"
    },
    "tags": []
   },
   "source": [
    "# Introduction\n",
    "\n",
    "In this Notebook, we provide you a step-by-step guide in learning about a data set, handling common data quality issues, and performing preprocessing. We will rely on [pandas](https://pandas.pydata.org/), a popular data analysis and manipulation library for Python.\n",
    "\n",
    "We'll use a variant of a popular learning dataset every practitioner should be familiar with: Wine Magazine wine reviews."
   ]
  },
  {
   "cell_type": "markdown",
   "id": "6ef38e37",
   "metadata": {
    "papermill": {
     "duration": 0.00665,
     "end_time": "2023-04-12T23:37:16.014829",
     "exception": false,
     "start_time": "2023-04-12T23:37:16.008179",
     "status": "completed"
    },
    "tags": []
   },
   "source": [
    "# Step 1: Acquire Data\n",
    "\n",
    "Using the Notebook sidebar, use the _Add Data_ button to search for the data set with the following URL, https://www.kaggle.com/datasets/pabloa/wine-magazine, and is titled Wine Magazine by Pablo Albani. (Note that this is a different dataset than the popular and semi-official [Wine Reviews](https://www.kaggle.com/datasets/zynicide/wine-reviews) data set.)\n",
    "\n",
    "When complete, close the _Add Data_ panel and confirm that the data set appears in the sidebar under _Data - Input_.\n"
   ]
  },
  {
   "cell_type": "markdown",
   "id": "0374ff08",
   "metadata": {
    "papermill": {
     "duration": 0.006625,
     "end_time": "2023-04-12T23:37:16.028487",
     "exception": false,
     "start_time": "2023-04-12T23:37:16.021862",
     "status": "completed"
    },
    "tags": []
   },
   "source": [
    "# Step 2: Import **pandas**\n",
    "\n",
    "While we could perform much of our data analysis and preprocessing from scratch with our own Python code, **[pandas](https://pandas.pydata.org/)** provides us with objects and functions for loading, analyzing and manipulating data. **pandas** is short for \"Panel Data Analysis,\" and was created by Wes McKinney in 2008.\n",
    "\n",
    "<div class=\"alert alert-block alert-danger\">\n",
    "<b>Please:</b> Do not just copy and paste the sample code in this notebook. Practice typing the code we provide in each code cell.\n",
    "</div>\n",
    "\n",
    "In the next code cell, import the **pandas** library, and, per convention, name it `pd` for short.\n",
    "\n",
    "```python\n",
    "import pandas as pd\n",
    "```\n",
    "\n",
    "Be sure to run the cell when you are done.\n"
   ]
  },
  {
   "cell_type": "code",
   "execution_count": 1,
   "id": "287336bf",
   "metadata": {
    "_cell_guid": "b1076dfc-b9ad-4769-8c92-a6c4dae69d19",
    "_uuid": "8f2839f25d086af736a60e9eeb907d3b93b6e0e5",
    "execution": {
     "iopub.execute_input": "2023-04-12T23:37:16.044905Z",
     "iopub.status.busy": "2023-04-12T23:37:16.044388Z",
     "iopub.status.idle": "2023-04-12T23:37:16.055468Z",
     "shell.execute_reply": "2023-04-12T23:37:16.054388Z"
    },
    "papermill": {
     "duration": 0.022248,
     "end_time": "2023-04-12T23:37:16.057876",
     "exception": false,
     "start_time": "2023-04-12T23:37:16.035628",
     "status": "completed"
    },
    "tags": []
   },
   "outputs": [],
   "source": [
    "import pandas as pd"
   ]
  },
  {
   "cell_type": "markdown",
   "id": "a100a69f",
   "metadata": {
    "papermill": {
     "duration": 0.006585,
     "end_time": "2023-04-12T23:37:16.071466",
     "exception": false,
     "start_time": "2023-04-12T23:37:16.064881",
     "status": "completed"
    },
    "tags": []
   },
   "source": [
    "# Step 3: Get to Know **pandas**\n",
    "\n",
    "**pandas** provides us with two important classes: DataFrame and Series. You can think of a DataFrame as a table, that we construct with columns of data, where each column has a title and a list of values. Try constructing a DataFrame with a Python dictionary, and inspecting it.\n",
    "\n",
    "```python\n",
    "pd.DataFrame({'Yes': [19, 21], 'No': [78, 2], 'Maybe': [3, 4]})\n",
    "```\n"
   ]
  },
  {
   "cell_type": "code",
   "execution_count": 2,
   "id": "43b4d5e7",
   "metadata": {
    "execution": {
     "iopub.execute_input": "2023-04-12T23:37:16.087216Z",
     "iopub.status.busy": "2023-04-12T23:37:16.086841Z",
     "iopub.status.idle": "2023-04-12T23:37:16.105674Z",
     "shell.execute_reply": "2023-04-12T23:37:16.103914Z"
    },
    "papermill": {
     "duration": 0.029157,
     "end_time": "2023-04-12T23:37:16.107788",
     "exception": false,
     "start_time": "2023-04-12T23:37:16.078631",
     "status": "completed"
    },
    "tags": []
   },
   "outputs": [
    {
     "name": "stdout",
     "output_type": "stream",
     "text": [
      "   Yes  No  Maybe\n",
      "0   19  78      3\n",
      "1   21   2      4\n"
     ]
    }
   ],
   "source": [
    "data = {'Yes': [19, 21], 'No': [78, 2], 'Maybe': [3, 4]}\n",
    "df = pd.DataFrame(data)\n",
    "print(df)"
   ]
  },
  {
   "cell_type": "markdown",
   "id": "3faf744a",
   "metadata": {
    "papermill": {
     "duration": 0.006526,
     "end_time": "2023-04-12T23:37:16.121369",
     "exception": false,
     "start_time": "2023-04-12T23:37:16.114843",
     "status": "completed"
    },
    "tags": []
   },
   "source": [
    "Here we have passed the DataFrame constructor a dictionary containing the key-value pairs of \"column label\" and column data, which were simple Python lists.\n",
    "\n",
    "Behind the scenes, however, a DataFrame takes the data we give it and constructs each column as a Series. You can think of a Series as a column of data, but a Series can also just be any sequence of data. Try creating a simple Series and inspecting it.\n",
    "\n",
    "```python\n",
    "pd.Series([8, 6, 7, 5, 3, 0, 9])\n",
    "```"
   ]
  },
  {
   "cell_type": "code",
   "execution_count": 3,
   "id": "5d29e4f6",
   "metadata": {
    "execution": {
     "iopub.execute_input": "2023-04-12T23:37:16.137255Z",
     "iopub.status.busy": "2023-04-12T23:37:16.136912Z",
     "iopub.status.idle": "2023-04-12T23:37:16.144447Z",
     "shell.execute_reply": "2023-04-12T23:37:16.143727Z"
    },
    "papermill": {
     "duration": 0.017822,
     "end_time": "2023-04-12T23:37:16.146784",
     "exception": false,
     "start_time": "2023-04-12T23:37:16.128962",
     "status": "completed"
    },
    "tags": []
   },
   "outputs": [
    {
     "name": "stdout",
     "output_type": "stream",
     "text": [
      "0         8\n",
      "1         6\n",
      "2         7\n",
      "3         5\n",
      "4         3\n",
      "5         0\n",
      "6    widget\n",
      "dtype: object\n"
     ]
    }
   ],
   "source": [
    "my_series = pd.Series([8, 6, 7, 5, 3, 0, 'widget'])\n",
    "print(my_series)"
   ]
  },
  {
   "cell_type": "markdown",
   "id": "e94e685d",
   "metadata": {
    "papermill": {
     "duration": 0.00671,
     "end_time": "2023-04-12T23:37:16.160504",
     "exception": false,
     "start_time": "2023-04-12T23:37:16.153794",
     "status": "completed"
    },
    "tags": []
   },
   "source": [
    "### 💡 Knowledge Check 1\n",
    "\n",
    "Q1. Recall our Exploration on types of data. Notice the `dtype` component of the code cell's output. What is the data type of the values in the Series above?\n",
    "\n",
    "_The data type of the values in the Series above is integer._\n",
    "\n",
    "Q2. Modify the code above, by replacing the `9` with the string `'widget'` and re-run the code cell. What is the data type now?\n",
    "\n",
    "_The data type of the Series is now object._\n",
    "\n",
    "If you only master one Python library for data analysis and machine learning, we encourage you to master every aspect of **pandas**. The time-saving features it provides have great value!\n",
    "For now, let's use pandas to open and explore our data set."
   ]
  },
  {
   "cell_type": "markdown",
   "id": "4d74b688",
   "metadata": {
    "papermill": {
     "duration": 0.006611,
     "end_time": "2023-04-12T23:37:16.174026",
     "exception": false,
     "start_time": "2023-04-12T23:37:16.167415",
     "status": "completed"
    },
    "tags": []
   },
   "source": [
    "# Step 4: Load Data from a File into a DataFrame\n",
    "\n",
    "Let's use **pandas** to create a DataFrame from the data in a CSV file, using the `read_csv` method. (CSV files are humble and ubiquitous, and easily read, but pandas can load data from other sources too.)\n",
    "\n",
    "```python\n",
    "wine_reviews = pd.read_csv(path_to_file, sep=';')\n",
    "```\n",
    "\n",
    "Notice that we will pass a `sep` argument to `read_csv` - this is because the data author chose to use semicolons instead of commas between values. With out this argument, pandas would have a problem parsing the CSV file.\n",
    "\n",
    "Try loading the file in the next code cell. We have defined a variable for the path, or location, of the wine magazine data you added to this notebook. Use it when invoking `read_csv`."
   ]
  },
  {
   "cell_type": "code",
   "execution_count": 4,
   "id": "46d66e78",
   "metadata": {
    "execution": {
     "iopub.execute_input": "2023-04-12T23:37:16.190651Z",
     "iopub.status.busy": "2023-04-12T23:37:16.190271Z",
     "iopub.status.idle": "2023-04-12T23:37:16.552987Z",
     "shell.execute_reply": "2023-04-12T23:37:16.551620Z"
    },
    "papermill": {
     "duration": 0.374642,
     "end_time": "2023-04-12T23:37:16.555696",
     "exception": false,
     "start_time": "2023-04-12T23:37:16.181054",
     "status": "completed"
    },
    "tags": []
   },
   "outputs": [],
   "source": [
    "wine_reviews_path = \"../input/wine-magazine/winemag-data_first150k.csv\"\n",
    "wine_reviews = pd.read_csv(wine_reviews_path, sep=';')\n"
   ]
  },
  {
   "cell_type": "markdown",
   "id": "b7fe7669",
   "metadata": {
    "papermill": {
     "duration": 0.006793,
     "end_time": "2023-04-12T23:37:16.569666",
     "exception": false,
     "start_time": "2023-04-12T23:37:16.562873",
     "status": "completed"
    },
    "tags": []
   },
   "source": [
    "# Step 5: Explore the Data Set\n",
    "\n",
    "Recall that two of the first characteristics of a dataset we should discover are the size, or number of data objects, and the width, or the number of dimensions. We can obtain that information with the `shape` attribute.\n",
    "\n",
    "```python\n",
    "wine_reviews.shape\n",
    "```"
   ]
  },
  {
   "cell_type": "code",
   "execution_count": 5,
   "id": "3f5c2990",
   "metadata": {
    "execution": {
     "iopub.execute_input": "2023-04-12T23:37:16.585913Z",
     "iopub.status.busy": "2023-04-12T23:37:16.585520Z",
     "iopub.status.idle": "2023-04-12T23:37:16.593595Z",
     "shell.execute_reply": "2023-04-12T23:37:16.592403Z"
    },
    "papermill": {
     "duration": 0.018746,
     "end_time": "2023-04-12T23:37:16.595648",
     "exception": false,
     "start_time": "2023-04-12T23:37:16.576902",
     "status": "completed"
    },
    "tags": []
   },
   "outputs": [
    {
     "data": {
      "text/plain": [
       "(144037, 10)"
      ]
     },
     "execution_count": 5,
     "metadata": {},
     "output_type": "execute_result"
    }
   ],
   "source": [
    "wine_reviews.shape"
   ]
  },
  {
   "cell_type": "markdown",
   "id": "5d2c2d43",
   "metadata": {
    "papermill": {
     "duration": 0.006779,
     "end_time": "2023-04-12T23:37:16.609626",
     "exception": false,
     "start_time": "2023-04-12T23:37:16.602847",
     "status": "completed"
    },
    "tags": []
   },
   "source": [
    "### 💡 Knowledge Check 2\n",
    "\n",
    "1. How many data objects are in the data set, and how many dimensions are there?\n",
    "\n",
    "There are 144,037 data objects and 10 dimensions in the wine_review data set."
   ]
  },
  {
   "cell_type": "markdown",
   "id": "58a4d8b2",
   "metadata": {
    "papermill": {
     "duration": 0.006801,
     "end_time": "2023-04-12T23:37:16.623826",
     "exception": false,
     "start_time": "2023-04-12T23:37:16.617025",
     "status": "completed"
    },
    "tags": []
   },
   "source": [
    "Now, let's inspect the `wine_reviews` DataFrame. Because a Jupyter Notebook will always help us inspect the last line of code in a code cell, we can just write one statement with `wine_reviews` in it.\n",
    "\n",
    "```python\n",
    "wine_reviews\n",
    "```"
   ]
  },
  {
   "cell_type": "code",
   "execution_count": 6,
   "id": "27bb8d92",
   "metadata": {
    "execution": {
     "iopub.execute_input": "2023-04-12T23:37:16.639606Z",
     "iopub.status.busy": "2023-04-12T23:37:16.639075Z",
     "iopub.status.idle": "2023-04-12T23:37:16.667284Z",
     "shell.execute_reply": "2023-04-12T23:37:16.666179Z"
    },
    "papermill": {
     "duration": 0.038487,
     "end_time": "2023-04-12T23:37:16.669251",
     "exception": false,
     "start_time": "2023-04-12T23:37:16.630764",
     "status": "completed"
    },
    "tags": []
   },
   "outputs": [
    {
     "data": {
      "text/html": [
       "<div>\n",
       "<style scoped>\n",
       "    .dataframe tbody tr th:only-of-type {\n",
       "        vertical-align: middle;\n",
       "    }\n",
       "\n",
       "    .dataframe tbody tr th {\n",
       "        vertical-align: top;\n",
       "    }\n",
       "\n",
       "    .dataframe thead th {\n",
       "        text-align: right;\n",
       "    }\n",
       "</style>\n",
       "<table border=\"1\" class=\"dataframe\">\n",
       "  <thead>\n",
       "    <tr style=\"text-align: right;\">\n",
       "      <th></th>\n",
       "      <th>country</th>\n",
       "      <th>designation</th>\n",
       "      <th>points</th>\n",
       "      <th>price</th>\n",
       "      <th>province</th>\n",
       "      <th>region_1</th>\n",
       "      <th>region_2</th>\n",
       "      <th>variety</th>\n",
       "      <th>winery</th>\n",
       "      <th>last_year_points</th>\n",
       "    </tr>\n",
       "  </thead>\n",
       "  <tbody>\n",
       "    <tr>\n",
       "      <th>0</th>\n",
       "      <td>US</td>\n",
       "      <td>Martha's Vineyard</td>\n",
       "      <td>96.0</td>\n",
       "      <td>235.0</td>\n",
       "      <td>California</td>\n",
       "      <td>Napa Valley</td>\n",
       "      <td>Napa</td>\n",
       "      <td>Cabernet Sauvignon</td>\n",
       "      <td>Heitz</td>\n",
       "      <td>94</td>\n",
       "    </tr>\n",
       "    <tr>\n",
       "      <th>1</th>\n",
       "      <td>Spain</td>\n",
       "      <td>Carodorum Selección Especial Reserva</td>\n",
       "      <td>96.0</td>\n",
       "      <td>110.0</td>\n",
       "      <td>Northern Spain</td>\n",
       "      <td>Toro</td>\n",
       "      <td>NaN</td>\n",
       "      <td>Tinta de Toro</td>\n",
       "      <td>Bodega Carmen Rodríguez</td>\n",
       "      <td>92</td>\n",
       "    </tr>\n",
       "    <tr>\n",
       "      <th>2</th>\n",
       "      <td>US</td>\n",
       "      <td>Special Selected Late Harvest</td>\n",
       "      <td>96.0</td>\n",
       "      <td>90.0</td>\n",
       "      <td>California</td>\n",
       "      <td>Knights Valley</td>\n",
       "      <td>Sonoma</td>\n",
       "      <td>Sauvignon Blanc</td>\n",
       "      <td>Macauley</td>\n",
       "      <td>100</td>\n",
       "    </tr>\n",
       "    <tr>\n",
       "      <th>3</th>\n",
       "      <td>US</td>\n",
       "      <td>Reserve</td>\n",
       "      <td>96.0</td>\n",
       "      <td>65.0</td>\n",
       "      <td>Oregon</td>\n",
       "      <td>Willamette Valley</td>\n",
       "      <td>Willamette Valley</td>\n",
       "      <td>Pinot Noir</td>\n",
       "      <td>Ponzi</td>\n",
       "      <td>94</td>\n",
       "    </tr>\n",
       "    <tr>\n",
       "      <th>4</th>\n",
       "      <td>France</td>\n",
       "      <td>La Brûlade</td>\n",
       "      <td>95.0</td>\n",
       "      <td>66.0</td>\n",
       "      <td>Provence</td>\n",
       "      <td>Bandol</td>\n",
       "      <td>NaN</td>\n",
       "      <td>Provence red blend</td>\n",
       "      <td>Domaine de la Bégude</td>\n",
       "      <td>94</td>\n",
       "    </tr>\n",
       "    <tr>\n",
       "      <th>...</th>\n",
       "      <td>...</td>\n",
       "      <td>...</td>\n",
       "      <td>...</td>\n",
       "      <td>...</td>\n",
       "      <td>...</td>\n",
       "      <td>...</td>\n",
       "      <td>...</td>\n",
       "      <td>...</td>\n",
       "      <td>...</td>\n",
       "      <td>...</td>\n",
       "    </tr>\n",
       "    <tr>\n",
       "      <th>144032</th>\n",
       "      <td>Italy</td>\n",
       "      <td>NaN</td>\n",
       "      <td>91.0</td>\n",
       "      <td>20.0</td>\n",
       "      <td>Southern Italy</td>\n",
       "      <td>Fiano di Avellino</td>\n",
       "      <td>NaN</td>\n",
       "      <td>White Blend</td>\n",
       "      <td>Feudi di San Gregorio</td>\n",
       "      <td>84</td>\n",
       "    </tr>\n",
       "    <tr>\n",
       "      <th>144033</th>\n",
       "      <td>France</td>\n",
       "      <td>Cuvée Prestige</td>\n",
       "      <td>91.0</td>\n",
       "      <td>27.0</td>\n",
       "      <td>Champagne</td>\n",
       "      <td>Champagne</td>\n",
       "      <td>NaN</td>\n",
       "      <td>Champagne Blend</td>\n",
       "      <td>H.Germain</td>\n",
       "      <td>83</td>\n",
       "    </tr>\n",
       "    <tr>\n",
       "      <th>144034</th>\n",
       "      <td>Italy</td>\n",
       "      <td>Terre di Dora</td>\n",
       "      <td>91.0</td>\n",
       "      <td>20.0</td>\n",
       "      <td>Southern Italy</td>\n",
       "      <td>Fiano di Avellino</td>\n",
       "      <td>NaN</td>\n",
       "      <td>White Blend</td>\n",
       "      <td>Terredora</td>\n",
       "      <td>97</td>\n",
       "    </tr>\n",
       "    <tr>\n",
       "      <th>144035</th>\n",
       "      <td>France</td>\n",
       "      <td>Grand Brut Rosé</td>\n",
       "      <td>90.0</td>\n",
       "      <td>52.0</td>\n",
       "      <td>Champagne</td>\n",
       "      <td>Champagne</td>\n",
       "      <td>NaN</td>\n",
       "      <td>Champagne Blend</td>\n",
       "      <td>Gosset</td>\n",
       "      <td>89</td>\n",
       "    </tr>\n",
       "    <tr>\n",
       "      <th>144036</th>\n",
       "      <td>Italy</td>\n",
       "      <td>NaN</td>\n",
       "      <td>90.0</td>\n",
       "      <td>15.0</td>\n",
       "      <td>Northeastern Italy</td>\n",
       "      <td>Alto Adige</td>\n",
       "      <td>NaN</td>\n",
       "      <td>Pinot Grigio</td>\n",
       "      <td>Alois Lageder</td>\n",
       "      <td>82</td>\n",
       "    </tr>\n",
       "  </tbody>\n",
       "</table>\n",
       "<p>144037 rows × 10 columns</p>\n",
       "</div>"
      ],
      "text/plain": [
       "       country                           designation  points  price  \\\n",
       "0           US                     Martha's Vineyard    96.0  235.0   \n",
       "1        Spain  Carodorum Selección Especial Reserva    96.0  110.0   \n",
       "2           US         Special Selected Late Harvest    96.0   90.0   \n",
       "3           US                               Reserve    96.0   65.0   \n",
       "4       France                            La Brûlade    95.0   66.0   \n",
       "...        ...                                   ...     ...    ...   \n",
       "144032   Italy                                   NaN    91.0   20.0   \n",
       "144033  France                        Cuvée Prestige    91.0   27.0   \n",
       "144034   Italy                         Terre di Dora    91.0   20.0   \n",
       "144035  France                       Grand Brut Rosé    90.0   52.0   \n",
       "144036   Italy                                   NaN    90.0   15.0   \n",
       "\n",
       "                  province           region_1           region_2  \\\n",
       "0               California        Napa Valley               Napa   \n",
       "1           Northern Spain               Toro                NaN   \n",
       "2               California     Knights Valley             Sonoma   \n",
       "3                   Oregon  Willamette Valley  Willamette Valley   \n",
       "4                 Provence             Bandol                NaN   \n",
       "...                    ...                ...                ...   \n",
       "144032      Southern Italy  Fiano di Avellino                NaN   \n",
       "144033           Champagne          Champagne                NaN   \n",
       "144034      Southern Italy  Fiano di Avellino                NaN   \n",
       "144035           Champagne          Champagne                NaN   \n",
       "144036  Northeastern Italy         Alto Adige                NaN   \n",
       "\n",
       "                   variety                   winery  last_year_points  \n",
       "0       Cabernet Sauvignon                    Heitz                94  \n",
       "1            Tinta de Toro  Bodega Carmen Rodríguez                92  \n",
       "2          Sauvignon Blanc                 Macauley               100  \n",
       "3               Pinot Noir                    Ponzi                94  \n",
       "4       Provence red blend     Domaine de la Bégude                94  \n",
       "...                    ...                      ...               ...  \n",
       "144032         White Blend    Feudi di San Gregorio                84  \n",
       "144033     Champagne Blend                H.Germain                83  \n",
       "144034         White Blend                Terredora                97  \n",
       "144035     Champagne Blend                   Gosset                89  \n",
       "144036        Pinot Grigio            Alois Lageder                82  \n",
       "\n",
       "[144037 rows x 10 columns]"
      ]
     },
     "execution_count": 6,
     "metadata": {},
     "output_type": "execute_result"
    }
   ],
   "source": [
    "wine_reviews"
   ]
  },
  {
   "cell_type": "markdown",
   "id": "4d88d91a",
   "metadata": {
    "papermill": {
     "duration": 0.007368,
     "end_time": "2023-04-12T23:37:16.684393",
     "exception": false,
     "start_time": "2023-04-12T23:37:16.677025",
     "status": "completed"
    },
    "tags": []
   },
   "source": [
    "Notice how the DataFrame includes an unlabeled index column, to identify each data object.\n",
    "\n",
    "### 💡 Knowledge Check 3\n",
    "\n",
    "Recall the importance of handling missing data, and common techniques for handling missing data.\n",
    "\n",
    "1. Look carefully at the rendering of the DataFrame above, what do you believe the NaN indicators mean in two of the columns of data?\n",
    "\n",
    "_NaN indicators mean Not a Number where it is often used to indicate missing or undefined values among a dataset. Also, it also means that there is no avaliable data provided for those fields in the rows of the data frame_\n",
    "\n",
    "2. How might you react to the missing data in the **designation** column, and why?\n",
    "\n",
    "_I might react to the handle missing data in **designation** column by removing the rows with the missing data, or replace the missing values with an appropiate value in order to avoid introducing bias or inaccuracies in analytics of data._\n",
    "\n",
    "3. How might you address the problem of a large number of missing values in the **region_2** column, and why?\n",
    "\n",
    "_I may address the problem of a large dataset of missing values in **region_2** by filling in the missing values with some other values based on the avaliable data. Using **region_1** may be useful to help decided whether or not **region_2** should be dropped._\n",
    "\n"
   ]
  },
  {
   "cell_type": "markdown",
   "id": "e0a8c1d1",
   "metadata": {
    "papermill": {
     "duration": 0.007319,
     "end_time": "2023-04-12T23:37:16.699502",
     "exception": false,
     "start_time": "2023-04-12T23:37:16.692183",
     "status": "completed"
    },
    "tags": []
   },
   "source": [
    "Now that we know the size and dimensions of the data set, and that we have seen a sampling of the data objects, let us further characterize the data set with summary statistics. While we can do this ourselves with our own Python code, **pandas** makes this straightforward.\n",
    "\n",
    "```python\n",
    "wine_reviews.describe()\n",
    "```"
   ]
  },
  {
   "cell_type": "code",
   "execution_count": 7,
   "id": "7164717f",
   "metadata": {
    "execution": {
     "iopub.execute_input": "2023-04-12T23:37:16.716574Z",
     "iopub.status.busy": "2023-04-12T23:37:16.715935Z",
     "iopub.status.idle": "2023-04-12T23:37:16.762699Z",
     "shell.execute_reply": "2023-04-12T23:37:16.761009Z"
    },
    "papermill": {
     "duration": 0.058917,
     "end_time": "2023-04-12T23:37:16.765785",
     "exception": false,
     "start_time": "2023-04-12T23:37:16.706868",
     "status": "completed"
    },
    "tags": []
   },
   "outputs": [
    {
     "data": {
      "text/html": [
       "<div>\n",
       "<style scoped>\n",
       "    .dataframe tbody tr th:only-of-type {\n",
       "        vertical-align: middle;\n",
       "    }\n",
       "\n",
       "    .dataframe tbody tr th {\n",
       "        vertical-align: top;\n",
       "    }\n",
       "\n",
       "    .dataframe thead th {\n",
       "        text-align: right;\n",
       "    }\n",
       "</style>\n",
       "<table border=\"1\" class=\"dataframe\">\n",
       "  <thead>\n",
       "    <tr style=\"text-align: right;\">\n",
       "      <th></th>\n",
       "      <th>points</th>\n",
       "      <th>price</th>\n",
       "      <th>last_year_points</th>\n",
       "    </tr>\n",
       "  </thead>\n",
       "  <tbody>\n",
       "    <tr>\n",
       "      <th>count</th>\n",
       "      <td>144032.000000</td>\n",
       "      <td>130641.000000</td>\n",
       "      <td>144037.000000</td>\n",
       "    </tr>\n",
       "    <tr>\n",
       "      <th>mean</th>\n",
       "      <td>87.873424</td>\n",
       "      <td>33.123399</td>\n",
       "      <td>89.998452</td>\n",
       "    </tr>\n",
       "    <tr>\n",
       "      <th>std</th>\n",
       "      <td>3.215821</td>\n",
       "      <td>36.368177</td>\n",
       "      <td>6.050240</td>\n",
       "    </tr>\n",
       "    <tr>\n",
       "      <th>min</th>\n",
       "      <td>80.000000</td>\n",
       "      <td>4.000000</td>\n",
       "      <td>80.000000</td>\n",
       "    </tr>\n",
       "    <tr>\n",
       "      <th>25%</th>\n",
       "      <td>86.000000</td>\n",
       "      <td>16.000000</td>\n",
       "      <td>85.000000</td>\n",
       "    </tr>\n",
       "    <tr>\n",
       "      <th>50%</th>\n",
       "      <td>88.000000</td>\n",
       "      <td>24.000000</td>\n",
       "      <td>90.000000</td>\n",
       "    </tr>\n",
       "    <tr>\n",
       "      <th>75%</th>\n",
       "      <td>90.000000</td>\n",
       "      <td>40.000000</td>\n",
       "      <td>95.000000</td>\n",
       "    </tr>\n",
       "    <tr>\n",
       "      <th>max</th>\n",
       "      <td>100.000000</td>\n",
       "      <td>2300.000000</td>\n",
       "      <td>100.000000</td>\n",
       "    </tr>\n",
       "  </tbody>\n",
       "</table>\n",
       "</div>"
      ],
      "text/plain": [
       "              points          price  last_year_points\n",
       "count  144032.000000  130641.000000     144037.000000\n",
       "mean       87.873424      33.123399         89.998452\n",
       "std         3.215821      36.368177          6.050240\n",
       "min        80.000000       4.000000         80.000000\n",
       "25%        86.000000      16.000000         85.000000\n",
       "50%        88.000000      24.000000         90.000000\n",
       "75%        90.000000      40.000000         95.000000\n",
       "max       100.000000    2300.000000        100.000000"
      ]
     },
     "execution_count": 7,
     "metadata": {},
     "output_type": "execute_result"
    }
   ],
   "source": [
    "wine_reviews.describe()"
   ]
  },
  {
   "cell_type": "markdown",
   "id": "f32339ff",
   "metadata": {
    "papermill": {
     "duration": 0.007506,
     "end_time": "2023-04-12T23:37:16.781368",
     "exception": false,
     "start_time": "2023-04-12T23:37:16.773862",
     "status": "completed"
    },
    "tags": []
   },
   "source": [
    "Notice how `describe` computes the summary statistics only for numeric features. Notice the different _count_ values - what do the differences in these numbers indicate?\n"
   ]
  },
  {
   "cell_type": "markdown",
   "id": "90d58962",
   "metadata": {
    "papermill": {
     "duration": 0.00771,
     "end_time": "2023-04-12T23:37:16.797009",
     "exception": false,
     "start_time": "2023-04-12T23:37:16.789299",
     "status": "completed"
    },
    "tags": []
   },
   "source": [
    "To explore and summarize the categorical data in the data set, we can use **pandas** grouping features. We can use the `value_counts` method to summarize the categorical attributes. Let's start with country.\n",
    "\n",
    "```python\n",
    "wine_reviews.value_counts('country')\n",
    "```\n",
    "\n"
   ]
  },
  {
   "cell_type": "code",
   "execution_count": 8,
   "id": "57e20edb",
   "metadata": {
    "execution": {
     "iopub.execute_input": "2023-04-12T23:37:16.814337Z",
     "iopub.status.busy": "2023-04-12T23:37:16.813967Z",
     "iopub.status.idle": "2023-04-12T23:37:16.847661Z",
     "shell.execute_reply": "2023-04-12T23:37:16.845578Z"
    },
    "papermill": {
     "duration": 0.045888,
     "end_time": "2023-04-12T23:37:16.850777",
     "exception": false,
     "start_time": "2023-04-12T23:37:16.804889",
     "status": "completed"
    },
    "tags": []
   },
   "outputs": [
    {
     "data": {
      "text/plain": [
       "48"
      ]
     },
     "execution_count": 8,
     "metadata": {},
     "output_type": "execute_result"
    }
   ],
   "source": [
    "wine_reviews.value_counts('country')\n",
    "len(wine_reviews.value_counts('country'))"
   ]
  },
  {
   "cell_type": "markdown",
   "id": "d6a79ac7",
   "metadata": {
    "papermill": {
     "duration": 0.009396,
     "end_time": "2023-04-12T23:37:16.868480",
     "exception": false,
     "start_time": "2023-04-12T23:37:16.859084",
     "status": "completed"
    },
    "tags": []
   },
   "source": [
    "### 💡 Knowledge Check 4\n",
    "\n",
    "Using the`value_counts` method, answer the following questions.\n",
    "\n",
    "1. How many countries are represented in the data set?\n",
    "\n",
    "_There are 48 countries represented in the data set._\n",
    "\n",
    "2. How many provinces are represented in the data set?\n",
    "\n",
    "_There are 451 province represented in the data set._\n",
    "\n",
    "3. How many varieties are represented in the data set?\n",
    "\n",
    "_There are 623 variety represented in the data set._"
   ]
  },
  {
   "cell_type": "markdown",
   "id": "0953e9b1",
   "metadata": {
    "papermill": {
     "duration": 0.009585,
     "end_time": "2023-04-12T23:37:16.887161",
     "exception": false,
     "start_time": "2023-04-12T23:37:16.877576",
     "status": "completed"
    },
    "tags": []
   },
   "source": [
    "# Step 6: Preprocessing\n",
    "\n",
    "## Handling missing values\n",
    "\n",
    "Based on our inspection so far, let us choose to remove the **region_2** feature, and remove any data objects that have a missing value. We can remove a column from a DataFrame using Python's `del` keyword and the syntactic sugar of dictionary-like syntax that **pandas** provides, via `del frame['col_name']`. We can remove all rows that contain at least one missing value with the DataFrame `dropna` method by passing it the named parameter `axis=0`.\n",
    "\n",
    "Then, let's inspect the shape of the data after this processing, with `shape`.\n",
    "\n",
    "```python\n",
    "del wine_reviews['region_2']\n",
    "wine_reviews = wine_reviews.dropna(axis=0)\n",
    "wine_reviews.shape\n",
    "```"
   ]
  },
  {
   "cell_type": "code",
   "execution_count": 9,
   "id": "5066404b",
   "metadata": {
    "execution": {
     "iopub.execute_input": "2023-04-12T23:37:16.907356Z",
     "iopub.status.busy": "2023-04-12T23:37:16.906988Z",
     "iopub.status.idle": "2023-04-12T23:37:16.976663Z",
     "shell.execute_reply": "2023-04-12T23:37:16.975109Z"
    },
    "papermill": {
     "duration": 0.081469,
     "end_time": "2023-04-12T23:37:16.978968",
     "exception": false,
     "start_time": "2023-04-12T23:37:16.897499",
     "status": "completed"
    },
    "tags": []
   },
   "outputs": [
    {
     "data": {
      "text/plain": [
       "(73440, 9)"
      ]
     },
     "execution_count": 9,
     "metadata": {},
     "output_type": "execute_result"
    }
   ],
   "source": [
    "del wine_reviews['region_2']\n",
    "wine_reviews = wine_reviews.dropna(axis=0)\n",
    "wine_reviews.shape\n",
    "\n",
    "# Note: if you encouter a KeyError: 'region_2', then \"Run All\" the code in the notebook.\n",
    "#       This is because the `del` operation mutates the DataFrame \"in-place.\""
   ]
  },
  {
   "cell_type": "markdown",
   "id": "8d780dfe",
   "metadata": {
    "papermill": {
     "duration": 0.007564,
     "end_time": "2023-04-12T23:37:16.994704",
     "exception": false,
     "start_time": "2023-04-12T23:37:16.987140",
     "status": "completed"
    },
    "tags": []
   },
   "source": [
    "Notice how there is one less dimension in the dataset, and we are also left with only 73,440 data objects that have no missing values.\n",
    "\n",
    "Let's use `describe` again to see the summary statistics again of this slightly 'cleaner' data set.\n",
    "\n",
    "```python\n",
    "wine_reviews.describe()\n",
    "```"
   ]
  },
  {
   "cell_type": "code",
   "execution_count": 10,
   "id": "4b5f1e20",
   "metadata": {
    "execution": {
     "iopub.execute_input": "2023-04-12T23:37:17.012915Z",
     "iopub.status.busy": "2023-04-12T23:37:17.011926Z",
     "iopub.status.idle": "2023-04-12T23:37:17.035544Z",
     "shell.execute_reply": "2023-04-12T23:37:17.033954Z"
    },
    "papermill": {
     "duration": 0.035849,
     "end_time": "2023-04-12T23:37:17.038379",
     "exception": false,
     "start_time": "2023-04-12T23:37:17.002530",
     "status": "completed"
    },
    "tags": []
   },
   "outputs": [
    {
     "data": {
      "text/html": [
       "<div>\n",
       "<style scoped>\n",
       "    .dataframe tbody tr th:only-of-type {\n",
       "        vertical-align: middle;\n",
       "    }\n",
       "\n",
       "    .dataframe tbody tr th {\n",
       "        vertical-align: top;\n",
       "    }\n",
       "\n",
       "    .dataframe thead th {\n",
       "        text-align: right;\n",
       "    }\n",
       "</style>\n",
       "<table border=\"1\" class=\"dataframe\">\n",
       "  <thead>\n",
       "    <tr style=\"text-align: right;\">\n",
       "      <th></th>\n",
       "      <th>points</th>\n",
       "      <th>price</th>\n",
       "      <th>last_year_points</th>\n",
       "    </tr>\n",
       "  </thead>\n",
       "  <tbody>\n",
       "    <tr>\n",
       "      <th>count</th>\n",
       "      <td>73440.000000</td>\n",
       "      <td>73440.000000</td>\n",
       "      <td>73440.000000</td>\n",
       "    </tr>\n",
       "    <tr>\n",
       "      <th>mean</th>\n",
       "      <td>88.209477</td>\n",
       "      <td>37.562895</td>\n",
       "      <td>90.008687</td>\n",
       "    </tr>\n",
       "    <tr>\n",
       "      <th>std</th>\n",
       "      <td>3.298495</td>\n",
       "      <td>36.507432</td>\n",
       "      <td>6.043388</td>\n",
       "    </tr>\n",
       "    <tr>\n",
       "      <th>min</th>\n",
       "      <td>80.000000</td>\n",
       "      <td>4.000000</td>\n",
       "      <td>80.000000</td>\n",
       "    </tr>\n",
       "    <tr>\n",
       "      <th>25%</th>\n",
       "      <td>86.000000</td>\n",
       "      <td>18.000000</td>\n",
       "      <td>85.000000</td>\n",
       "    </tr>\n",
       "    <tr>\n",
       "      <th>50%</th>\n",
       "      <td>88.000000</td>\n",
       "      <td>29.000000</td>\n",
       "      <td>90.000000</td>\n",
       "    </tr>\n",
       "    <tr>\n",
       "      <th>75%</th>\n",
       "      <td>91.000000</td>\n",
       "      <td>45.000000</td>\n",
       "      <td>95.000000</td>\n",
       "    </tr>\n",
       "    <tr>\n",
       "      <th>max</th>\n",
       "      <td>100.000000</td>\n",
       "      <td>2013.000000</td>\n",
       "      <td>100.000000</td>\n",
       "    </tr>\n",
       "  </tbody>\n",
       "</table>\n",
       "</div>"
      ],
      "text/plain": [
       "             points         price  last_year_points\n",
       "count  73440.000000  73440.000000      73440.000000\n",
       "mean      88.209477     37.562895         90.008687\n",
       "std        3.298495     36.507432          6.043388\n",
       "min       80.000000      4.000000         80.000000\n",
       "25%       86.000000     18.000000         85.000000\n",
       "50%       88.000000     29.000000         90.000000\n",
       "75%       91.000000     45.000000         95.000000\n",
       "max      100.000000   2013.000000        100.000000"
      ]
     },
     "execution_count": 10,
     "metadata": {},
     "output_type": "execute_result"
    }
   ],
   "source": [
    "wine_reviews.describe()"
   ]
  },
  {
   "cell_type": "markdown",
   "id": "764b4f65",
   "metadata": {
    "papermill": {
     "duration": 0.009361,
     "end_time": "2023-04-12T23:37:17.056068",
     "exception": false,
     "start_time": "2023-04-12T23:37:17.046707",
     "status": "completed"
    },
    "tags": []
   },
   "source": [
    "Let's view the first five rows of the DataFrame with the `head` method.\n",
    "\n",
    "```python\n",
    "wine_reviews.head()\n",
    "```"
   ]
  },
  {
   "cell_type": "code",
   "execution_count": 11,
   "id": "956692b8",
   "metadata": {
    "execution": {
     "iopub.execute_input": "2023-04-12T23:37:17.074464Z",
     "iopub.status.busy": "2023-04-12T23:37:17.073704Z",
     "iopub.status.idle": "2023-04-12T23:37:17.089509Z",
     "shell.execute_reply": "2023-04-12T23:37:17.088243Z"
    },
    "papermill": {
     "duration": 0.028013,
     "end_time": "2023-04-12T23:37:17.092266",
     "exception": false,
     "start_time": "2023-04-12T23:37:17.064253",
     "status": "completed"
    },
    "tags": []
   },
   "outputs": [
    {
     "data": {
      "text/html": [
       "<div>\n",
       "<style scoped>\n",
       "    .dataframe tbody tr th:only-of-type {\n",
       "        vertical-align: middle;\n",
       "    }\n",
       "\n",
       "    .dataframe tbody tr th {\n",
       "        vertical-align: top;\n",
       "    }\n",
       "\n",
       "    .dataframe thead th {\n",
       "        text-align: right;\n",
       "    }\n",
       "</style>\n",
       "<table border=\"1\" class=\"dataframe\">\n",
       "  <thead>\n",
       "    <tr style=\"text-align: right;\">\n",
       "      <th></th>\n",
       "      <th>country</th>\n",
       "      <th>designation</th>\n",
       "      <th>points</th>\n",
       "      <th>price</th>\n",
       "      <th>province</th>\n",
       "      <th>region_1</th>\n",
       "      <th>variety</th>\n",
       "      <th>winery</th>\n",
       "      <th>last_year_points</th>\n",
       "    </tr>\n",
       "  </thead>\n",
       "  <tbody>\n",
       "    <tr>\n",
       "      <th>0</th>\n",
       "      <td>US</td>\n",
       "      <td>Martha's Vineyard</td>\n",
       "      <td>96.0</td>\n",
       "      <td>235.0</td>\n",
       "      <td>California</td>\n",
       "      <td>Napa Valley</td>\n",
       "      <td>Cabernet Sauvignon</td>\n",
       "      <td>Heitz</td>\n",
       "      <td>94</td>\n",
       "    </tr>\n",
       "    <tr>\n",
       "      <th>1</th>\n",
       "      <td>Spain</td>\n",
       "      <td>Carodorum Selección Especial Reserva</td>\n",
       "      <td>96.0</td>\n",
       "      <td>110.0</td>\n",
       "      <td>Northern Spain</td>\n",
       "      <td>Toro</td>\n",
       "      <td>Tinta de Toro</td>\n",
       "      <td>Bodega Carmen Rodríguez</td>\n",
       "      <td>92</td>\n",
       "    </tr>\n",
       "    <tr>\n",
       "      <th>2</th>\n",
       "      <td>US</td>\n",
       "      <td>Special Selected Late Harvest</td>\n",
       "      <td>96.0</td>\n",
       "      <td>90.0</td>\n",
       "      <td>California</td>\n",
       "      <td>Knights Valley</td>\n",
       "      <td>Sauvignon Blanc</td>\n",
       "      <td>Macauley</td>\n",
       "      <td>100</td>\n",
       "    </tr>\n",
       "    <tr>\n",
       "      <th>3</th>\n",
       "      <td>US</td>\n",
       "      <td>Reserve</td>\n",
       "      <td>96.0</td>\n",
       "      <td>65.0</td>\n",
       "      <td>Oregon</td>\n",
       "      <td>Willamette Valley</td>\n",
       "      <td>Pinot Noir</td>\n",
       "      <td>Ponzi</td>\n",
       "      <td>94</td>\n",
       "    </tr>\n",
       "    <tr>\n",
       "      <th>4</th>\n",
       "      <td>France</td>\n",
       "      <td>La Brûlade</td>\n",
       "      <td>95.0</td>\n",
       "      <td>66.0</td>\n",
       "      <td>Provence</td>\n",
       "      <td>Bandol</td>\n",
       "      <td>Provence red blend</td>\n",
       "      <td>Domaine de la Bégude</td>\n",
       "      <td>94</td>\n",
       "    </tr>\n",
       "  </tbody>\n",
       "</table>\n",
       "</div>"
      ],
      "text/plain": [
       "  country                           designation  points  price  \\\n",
       "0      US                     Martha's Vineyard    96.0  235.0   \n",
       "1   Spain  Carodorum Selección Especial Reserva    96.0  110.0   \n",
       "2      US         Special Selected Late Harvest    96.0   90.0   \n",
       "3      US                               Reserve    96.0   65.0   \n",
       "4  France                            La Brûlade    95.0   66.0   \n",
       "\n",
       "         province           region_1             variety  \\\n",
       "0      California        Napa Valley  Cabernet Sauvignon   \n",
       "1  Northern Spain               Toro       Tinta de Toro   \n",
       "2      California     Knights Valley     Sauvignon Blanc   \n",
       "3          Oregon  Willamette Valley          Pinot Noir   \n",
       "4        Provence             Bandol  Provence red blend   \n",
       "\n",
       "                    winery  last_year_points  \n",
       "0                    Heitz                94  \n",
       "1  Bodega Carmen Rodríguez                92  \n",
       "2                 Macauley               100  \n",
       "3                    Ponzi                94  \n",
       "4     Domaine de la Bégude                94  "
      ]
     },
     "execution_count": 11,
     "metadata": {},
     "output_type": "execute_result"
    }
   ],
   "source": [
    "wine_reviews.head()"
   ]
  },
  {
   "cell_type": "markdown",
   "id": "2d5372e6",
   "metadata": {
    "papermill": {
     "duration": 0.008954,
     "end_time": "2023-04-12T23:37:17.109954",
     "exception": false,
     "start_time": "2023-04-12T23:37:17.101000",
     "status": "completed"
    },
    "tags": []
   },
   "source": [
    "## Creating a Feature\n",
    "\n",
    "Our dataset has two interesting dimensions: _points_ and *last_year_points*. One might imagine an experiment where we would like to determine if considering the difference between the current year _points_ and the *last_year_points* might enhance the prediction accuracy of a trained model. In order to train a model with the difference between the current year _points_ and the *last_year_points*, it would be handy if we had a new feature, *point_change* in our dataset, computed prior to training.\n",
    "\n",
    "There are many \"syntactically sexy\" ways to use *pandas* to synthesize new features. One of these methods involves adding a new column using the `assign` method, and passing `assign` an expression to evaluate. (Behind the scenes, a `map` operation and `lambda` expression are used to compute the new values for every entry in the data set.)\n",
    "\n",
    "```python\n",
    "wine_reviews = wine_reviews.assign(point_change = wine_reviews.points - wine_reviews.last_year_points)\n",
    "wine_reviews.head()\n",
    "```"
   ]
  },
  {
   "cell_type": "code",
   "execution_count": 12,
   "id": "8d34de47",
   "metadata": {
    "execution": {
     "iopub.execute_input": "2023-04-12T23:37:17.129446Z",
     "iopub.status.busy": "2023-04-12T23:37:17.128858Z",
     "iopub.status.idle": "2023-04-12T23:37:17.146991Z",
     "shell.execute_reply": "2023-04-12T23:37:17.146219Z"
    },
    "papermill": {
     "duration": 0.03049,
     "end_time": "2023-04-12T23:37:17.149019",
     "exception": false,
     "start_time": "2023-04-12T23:37:17.118529",
     "status": "completed"
    },
    "tags": []
   },
   "outputs": [
    {
     "data": {
      "text/html": [
       "<div>\n",
       "<style scoped>\n",
       "    .dataframe tbody tr th:only-of-type {\n",
       "        vertical-align: middle;\n",
       "    }\n",
       "\n",
       "    .dataframe tbody tr th {\n",
       "        vertical-align: top;\n",
       "    }\n",
       "\n",
       "    .dataframe thead th {\n",
       "        text-align: right;\n",
       "    }\n",
       "</style>\n",
       "<table border=\"1\" class=\"dataframe\">\n",
       "  <thead>\n",
       "    <tr style=\"text-align: right;\">\n",
       "      <th></th>\n",
       "      <th>country</th>\n",
       "      <th>designation</th>\n",
       "      <th>points</th>\n",
       "      <th>price</th>\n",
       "      <th>province</th>\n",
       "      <th>region_1</th>\n",
       "      <th>variety</th>\n",
       "      <th>winery</th>\n",
       "      <th>last_year_points</th>\n",
       "      <th>point_change</th>\n",
       "    </tr>\n",
       "  </thead>\n",
       "  <tbody>\n",
       "    <tr>\n",
       "      <th>0</th>\n",
       "      <td>US</td>\n",
       "      <td>Martha's Vineyard</td>\n",
       "      <td>96.0</td>\n",
       "      <td>235.0</td>\n",
       "      <td>California</td>\n",
       "      <td>Napa Valley</td>\n",
       "      <td>Cabernet Sauvignon</td>\n",
       "      <td>Heitz</td>\n",
       "      <td>94</td>\n",
       "      <td>2.0</td>\n",
       "    </tr>\n",
       "    <tr>\n",
       "      <th>1</th>\n",
       "      <td>Spain</td>\n",
       "      <td>Carodorum Selección Especial Reserva</td>\n",
       "      <td>96.0</td>\n",
       "      <td>110.0</td>\n",
       "      <td>Northern Spain</td>\n",
       "      <td>Toro</td>\n",
       "      <td>Tinta de Toro</td>\n",
       "      <td>Bodega Carmen Rodríguez</td>\n",
       "      <td>92</td>\n",
       "      <td>4.0</td>\n",
       "    </tr>\n",
       "    <tr>\n",
       "      <th>2</th>\n",
       "      <td>US</td>\n",
       "      <td>Special Selected Late Harvest</td>\n",
       "      <td>96.0</td>\n",
       "      <td>90.0</td>\n",
       "      <td>California</td>\n",
       "      <td>Knights Valley</td>\n",
       "      <td>Sauvignon Blanc</td>\n",
       "      <td>Macauley</td>\n",
       "      <td>100</td>\n",
       "      <td>-4.0</td>\n",
       "    </tr>\n",
       "    <tr>\n",
       "      <th>3</th>\n",
       "      <td>US</td>\n",
       "      <td>Reserve</td>\n",
       "      <td>96.0</td>\n",
       "      <td>65.0</td>\n",
       "      <td>Oregon</td>\n",
       "      <td>Willamette Valley</td>\n",
       "      <td>Pinot Noir</td>\n",
       "      <td>Ponzi</td>\n",
       "      <td>94</td>\n",
       "      <td>2.0</td>\n",
       "    </tr>\n",
       "    <tr>\n",
       "      <th>4</th>\n",
       "      <td>France</td>\n",
       "      <td>La Brûlade</td>\n",
       "      <td>95.0</td>\n",
       "      <td>66.0</td>\n",
       "      <td>Provence</td>\n",
       "      <td>Bandol</td>\n",
       "      <td>Provence red blend</td>\n",
       "      <td>Domaine de la Bégude</td>\n",
       "      <td>94</td>\n",
       "      <td>1.0</td>\n",
       "    </tr>\n",
       "  </tbody>\n",
       "</table>\n",
       "</div>"
      ],
      "text/plain": [
       "  country                           designation  points  price  \\\n",
       "0      US                     Martha's Vineyard    96.0  235.0   \n",
       "1   Spain  Carodorum Selección Especial Reserva    96.0  110.0   \n",
       "2      US         Special Selected Late Harvest    96.0   90.0   \n",
       "3      US                               Reserve    96.0   65.0   \n",
       "4  France                            La Brûlade    95.0   66.0   \n",
       "\n",
       "         province           region_1             variety  \\\n",
       "0      California        Napa Valley  Cabernet Sauvignon   \n",
       "1  Northern Spain               Toro       Tinta de Toro   \n",
       "2      California     Knights Valley     Sauvignon Blanc   \n",
       "3          Oregon  Willamette Valley          Pinot Noir   \n",
       "4        Provence             Bandol  Provence red blend   \n",
       "\n",
       "                    winery  last_year_points  point_change  \n",
       "0                    Heitz                94           2.0  \n",
       "1  Bodega Carmen Rodríguez                92           4.0  \n",
       "2                 Macauley               100          -4.0  \n",
       "3                    Ponzi                94           2.0  \n",
       "4     Domaine de la Bégude                94           1.0  "
      ]
     },
     "execution_count": 12,
     "metadata": {},
     "output_type": "execute_result"
    }
   ],
   "source": [
    "wine_reviews = wine_reviews.assign(point_change = wine_reviews.points - wine_reviews.last_year_points)\n",
    "wine_reviews.head()"
   ]
  },
  {
   "cell_type": "markdown",
   "id": "1772301d",
   "metadata": {
    "papermill": {
     "duration": 0.00945,
     "end_time": "2023-04-12T23:37:17.167905",
     "exception": false,
     "start_time": "2023-04-12T23:37:17.158455",
     "status": "completed"
    },
    "tags": []
   },
   "source": [
    "### 💡 Knowledge Check 5\n",
    "\n",
    "Apply the ideas and examples in this notebook to create a new column in the dataset, named **points_normalized**. Ensure that the values in this new column represent the points values normalized between 0 and 1.\n",
    "\n",
    "<div class=\"alert alert-block alert-info\">\n",
    "<b>Hint:</b> There are important clues in the data exploration within this Notebook about how you might want to implement this.\n",
    "</div>\n",
    "\n",
    "Implement your solution in the following code cell, and be sure to invoke `wine_reviews.head()` at the end, so we can inspect your new column.\n"
   ]
  },
  {
   "cell_type": "code",
   "execution_count": 13,
   "id": "3bfe2ffc",
   "metadata": {
    "execution": {
     "iopub.execute_input": "2023-04-12T23:37:17.187607Z",
     "iopub.status.busy": "2023-04-12T23:37:17.186989Z",
     "iopub.status.idle": "2023-04-12T23:37:17.211494Z",
     "shell.execute_reply": "2023-04-12T23:37:17.210100Z"
    },
    "papermill": {
     "duration": 0.037101,
     "end_time": "2023-04-12T23:37:17.213755",
     "exception": false,
     "start_time": "2023-04-12T23:37:17.176654",
     "status": "completed"
    },
    "tags": []
   },
   "outputs": [
    {
     "data": {
      "text/html": [
       "<div>\n",
       "<style scoped>\n",
       "    .dataframe tbody tr th:only-of-type {\n",
       "        vertical-align: middle;\n",
       "    }\n",
       "\n",
       "    .dataframe tbody tr th {\n",
       "        vertical-align: top;\n",
       "    }\n",
       "\n",
       "    .dataframe thead th {\n",
       "        text-align: right;\n",
       "    }\n",
       "</style>\n",
       "<table border=\"1\" class=\"dataframe\">\n",
       "  <thead>\n",
       "    <tr style=\"text-align: right;\">\n",
       "      <th></th>\n",
       "      <th>country</th>\n",
       "      <th>designation</th>\n",
       "      <th>points</th>\n",
       "      <th>price</th>\n",
       "      <th>province</th>\n",
       "      <th>region_1</th>\n",
       "      <th>variety</th>\n",
       "      <th>winery</th>\n",
       "      <th>last_year_points</th>\n",
       "      <th>point_change</th>\n",
       "      <th>points_normalized</th>\n",
       "    </tr>\n",
       "  </thead>\n",
       "  <tbody>\n",
       "    <tr>\n",
       "      <th>0</th>\n",
       "      <td>US</td>\n",
       "      <td>Martha's Vineyard</td>\n",
       "      <td>96.0</td>\n",
       "      <td>235.0</td>\n",
       "      <td>California</td>\n",
       "      <td>Napa Valley</td>\n",
       "      <td>Cabernet Sauvignon</td>\n",
       "      <td>Heitz</td>\n",
       "      <td>94</td>\n",
       "      <td>2.0</td>\n",
       "      <td>0.80</td>\n",
       "    </tr>\n",
       "    <tr>\n",
       "      <th>1</th>\n",
       "      <td>Spain</td>\n",
       "      <td>Carodorum Selección Especial Reserva</td>\n",
       "      <td>96.0</td>\n",
       "      <td>110.0</td>\n",
       "      <td>Northern Spain</td>\n",
       "      <td>Toro</td>\n",
       "      <td>Tinta de Toro</td>\n",
       "      <td>Bodega Carmen Rodríguez</td>\n",
       "      <td>92</td>\n",
       "      <td>4.0</td>\n",
       "      <td>0.80</td>\n",
       "    </tr>\n",
       "    <tr>\n",
       "      <th>2</th>\n",
       "      <td>US</td>\n",
       "      <td>Special Selected Late Harvest</td>\n",
       "      <td>96.0</td>\n",
       "      <td>90.0</td>\n",
       "      <td>California</td>\n",
       "      <td>Knights Valley</td>\n",
       "      <td>Sauvignon Blanc</td>\n",
       "      <td>Macauley</td>\n",
       "      <td>100</td>\n",
       "      <td>-4.0</td>\n",
       "      <td>0.80</td>\n",
       "    </tr>\n",
       "    <tr>\n",
       "      <th>3</th>\n",
       "      <td>US</td>\n",
       "      <td>Reserve</td>\n",
       "      <td>96.0</td>\n",
       "      <td>65.0</td>\n",
       "      <td>Oregon</td>\n",
       "      <td>Willamette Valley</td>\n",
       "      <td>Pinot Noir</td>\n",
       "      <td>Ponzi</td>\n",
       "      <td>94</td>\n",
       "      <td>2.0</td>\n",
       "      <td>0.80</td>\n",
       "    </tr>\n",
       "    <tr>\n",
       "      <th>4</th>\n",
       "      <td>France</td>\n",
       "      <td>La Brûlade</td>\n",
       "      <td>95.0</td>\n",
       "      <td>66.0</td>\n",
       "      <td>Provence</td>\n",
       "      <td>Bandol</td>\n",
       "      <td>Provence red blend</td>\n",
       "      <td>Domaine de la Bégude</td>\n",
       "      <td>94</td>\n",
       "      <td>1.0</td>\n",
       "      <td>0.75</td>\n",
       "    </tr>\n",
       "  </tbody>\n",
       "</table>\n",
       "</div>"
      ],
      "text/plain": [
       "  country                           designation  points  price  \\\n",
       "0      US                     Martha's Vineyard    96.0  235.0   \n",
       "1   Spain  Carodorum Selección Especial Reserva    96.0  110.0   \n",
       "2      US         Special Selected Late Harvest    96.0   90.0   \n",
       "3      US                               Reserve    96.0   65.0   \n",
       "4  France                            La Brûlade    95.0   66.0   \n",
       "\n",
       "         province           region_1             variety  \\\n",
       "0      California        Napa Valley  Cabernet Sauvignon   \n",
       "1  Northern Spain               Toro       Tinta de Toro   \n",
       "2      California     Knights Valley     Sauvignon Blanc   \n",
       "3          Oregon  Willamette Valley          Pinot Noir   \n",
       "4        Provence             Bandol  Provence red blend   \n",
       "\n",
       "                    winery  last_year_points  point_change  points_normalized  \n",
       "0                    Heitz                94           2.0               0.80  \n",
       "1  Bodega Carmen Rodríguez                92           4.0               0.80  \n",
       "2                 Macauley               100          -4.0               0.80  \n",
       "3                    Ponzi                94           2.0               0.80  \n",
       "4     Domaine de la Bégude                94           1.0               0.75  "
      ]
     },
     "execution_count": 13,
     "metadata": {},
     "output_type": "execute_result"
    }
   ],
   "source": [
    "wine_reviews = wine_reviews.assign(points_normalized = (wine_reviews.points - wine_reviews.points.min()) / (wine_reviews.points.max() - wine_reviews.points.min()))\n",
    "wine_reviews.head()\n"
   ]
  },
  {
   "cell_type": "markdown",
   "id": "fc81216a",
   "metadata": {
    "papermill": {
     "duration": 0.009489,
     "end_time": "2023-04-12T23:37:17.232418",
     "exception": false,
     "start_time": "2023-04-12T23:37:17.222929",
     "status": "completed"
    },
    "tags": []
   },
   "source": [
    "# Step 7: Data Visualization\n",
    "\n",
    "Visualizing our data is an important part of exploring and characterizing a data set. While we can not spend significant time on data visualization in this course, know that **pandas** provides some wrapper functions around **[MatPlotLib](https://matplotlib.org/)**, to make it quick and easy to draw some useful data visualizations.\n",
    "\n",
    "Let's try rendering a scatterplot of points versus prices, and see what we can infer by observing the data visualization. To do this, we can use the `plot` method, specify which dimensions in the data set to use for `x` and `y` axes of our visualization, and specify a `kind` of visualization to render.\n",
    "\n",
    "```python\n",
    "wine_reviews.plot(x='points', y='price', kind='scatter')\n",
    "```\n"
   ]
  },
  {
   "cell_type": "code",
   "execution_count": 14,
   "id": "5cc66118",
   "metadata": {
    "execution": {
     "iopub.execute_input": "2023-04-12T23:37:17.252628Z",
     "iopub.status.busy": "2023-04-12T23:37:17.251928Z",
     "iopub.status.idle": "2023-04-12T23:37:17.753603Z",
     "shell.execute_reply": "2023-04-12T23:37:17.752407Z"
    },
    "papermill": {
     "duration": 0.514634,
     "end_time": "2023-04-12T23:37:17.756096",
     "exception": false,
     "start_time": "2023-04-12T23:37:17.241462",
     "status": "completed"
    },
    "tags": []
   },
   "outputs": [
    {
     "data": {
      "text/plain": [
       "<AxesSubplot:xlabel='points', ylabel='price'>"
      ]
     },
     "execution_count": 14,
     "metadata": {},
     "output_type": "execute_result"
    },
    {
     "data": {
      "image/png": "[encoded data removed]",
      "text/plain": [
       "<Figure size 640x480 with 1 Axes>"
      ]
     },
     "metadata": {},
     "output_type": "display_data"
    }
   ],
   "source": [
    "wine_reviews.plot(x='points', y='price', kind='scatter')\n"
   ]
  },
  {
   "cell_type": "markdown",
   "id": "7d8f6537",
   "metadata": {
    "papermill": {
     "duration": 0.008976,
     "end_time": "2023-04-12T23:37:17.775071",
     "exception": false,
     "start_time": "2023-04-12T23:37:17.766095",
     "status": "completed"
    },
    "tags": []
   },
   "source": [
    "### 💡 Knowledge Check 6\n",
    "\n",
    "There are many interesting characteristics of the data visualization above, that were not evident in our exploration of the data set so far. Try answering the following questions.\n",
    "\n",
    "1. What are three interesting things about the data set that this data visualization seems to reveal?\n",
    "\n",
    "_Three interesting things about the data set that this data visualization seems to reveal is that there is:_\n",
    "1. _A positive correlation between the price and points of wine._\n",
    "2. _A few outliers in the data, where wines have very high prices but not the most points._\n",
    "3. _There are not many 100 point ratings of wine compare to those who come close to those points._\n",
    "\n",
    "2. Consider the ideas in the Explorations in this week's module. Now, looking at the data visualization above, in what way are two of the data objects interesting? What might you do next?\n",
    "\n",
    "_The first interesting data objects is the price of the wine hovering over 2000 dollars with a rating of around ~91, which is interesting to consider on why it is so expensive. Another interesting data object is that there are serveral wines rating around 86 to 100 with a price around or over 500 dollars._\n",
    "\n",
    "_I want to investigate these objects further, and I could filter out the data set to include wines with certain characterisitics such as pricing, and ratings, or even both._"
   ]
  },
  {
   "cell_type": "markdown",
   "id": "9acfe700",
   "metadata": {
    "papermill": {
     "duration": 0.009002,
     "end_time": "2023-04-12T23:37:17.793507",
     "exception": false,
     "start_time": "2023-04-12T23:37:17.784505",
     "status": "completed"
    },
    "tags": []
   },
   "source": [
    "# Conclusion\n",
    "\n",
    "This Notebook tells a story within an important part of the machine learning process. We hope this story ends in a bit of a cliff-hanger: we have discovered new characteristics about our data, and perhaps we have more preprocessing to do. Furthermore, after training our models, we will return to the preprocessing step to try to improve our data set with additional preprocessing. **This is the journey of the data wrangler.**\n",
    "\n",
    "\n",
    "### 💡 Knowledge Check 7\n",
    "\n",
    "In this notebook, we began this story by loading the data... and then what? Wrap up this notebook by writing a story that describes _what_ we did, _what_ we discovered, _why_ we did what we did, and what might be next. Don't just summarize the steps - identify the meaning behind the steps in our journey, and emphasize the _why_.\n",
    "\n",
    "_In this notebook, we started by loading and exploring a dataset of wine reviews. We inspected the data, including its shape, data types, and values, and identified some areas of interest for further analysis. We then preprocessed the data by removing any missing values and creating a new feature, point_change, that may alter the model's accuracy. Then, we visualized our data using a scatterplot to gain insights into the relationship between wine price and rating. We also discovered interesting trends in the data, including the correlation between price and points, and the wide range of wine varieties and countries represented in the dataset._"
   ]
  }
 ],
 "metadata": {
  "kernelspec": {
   "display_name": "Python 3",
   "language": "python",
   "name": "python3"
  },
  "language_info": {
   "codemirror_mode": {
    "name": "ipython",
    "version": 3
   },
   "file_extension": ".py",
   "mimetype": "text/x-python",
   "name": "python",
   "nbconvert_exporter": "python",
   "pygments_lexer": "ipython3",
   "version": "3.7.12"
  },
  "papermill": {
   "default_parameters": {},
   "duration": 12.151279,
   "end_time": "2023-04-12T23:37:18.525667",
   "environment_variables": {},
   "exception": null,
   "input_path": "__notebook__.ipynb",
   "output_path": "__notebook__.ipynb",
   "parameters": {},
   "start_time": "2023-04-12T23:37:06.374388",
   "version": "2.4.0"
  }
 },
 "nbformat": 4,
 "nbformat_minor": 5
}
